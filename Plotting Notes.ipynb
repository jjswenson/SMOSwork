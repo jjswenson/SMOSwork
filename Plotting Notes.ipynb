{
 "cells": [
  {
   "cell_type": "code",
   "execution_count": null,
   "metadata": {},
   "outputs": [],
   "source": [
    "#should be installed in anaconda?? \n",
    "%matplotlib inline\n",
    "import pandas as pd, numpy as np\n",
    "import matplotlib.pyplot as plt\n",
    "import pip\n",
    "#used in the selecting below\n",
    "import xarray as xr\n",
    "import seaborn as sns\n",
    "\n",
    "sns.pairplot(nba[[\"ast\", \"fg\", \"trb\"]])\n",
    "plt.show()"
   ]
  },
  {
   "cell_type": "code",
   "execution_count": null,
   "metadata": {},
   "outputs": [],
   "source": [
    "#plotting  #example of how to plot in jupyter notebooks--- https://www.neonscience.org/neon-aop-hdf5-tile-py\n",
    "import matplotlib.pyplot as plt, \n",
    "%matplotlib inline \n",
    "\n",
    "plt.plot\n",
    "plt.show()\n",
    "\n",
    "figure = plt.figure(figsize=(6,9), dpi=100);    \n",
    "graph = figure.add_subplot(111);\n",
    "# fudging here- what do I want to graph? histogram? or averages by day?\n",
    "graphmissing = figure.add_subplot(111)\n",
    "y = graphmissing.bar([0], freq[numpy.NaN]) #gives a bar for the number of missing values at x=0\n",
    "\n",
    "figure.show()"
   ]
  },
  {
   "cell_type": "code",
   "execution_count": null,
   "metadata": {
    "collapsed": true
   },
   "outputs": [],
   "source": [
    "  #PLOTTING\n",
    "    \n",
    "#Christophe's fig=plt.figure(figsize=(15,6),dpi=100)\n",
    "\n",
    "        dataPlot=fig.add_subplot(111)\n",
    "\n",
    "        srcLabel=\"source data\"\n",
    "        mwLabel=\"moving window averaged data\"\n",
    "        percLabel=\"percentile filtered data\"\n",
    "\n",
    "        srcStyle=\"r*\"\n",
    "        mwStyle=\"g-\"\n",
    "        percStyle=\"b+\"\n",
    "\n",
    "        dataPlot.plot( dataSrc[point], srcStyle, label=srcLabel)\n",
    "        dataPlot.plot( dataMW[point], mwStyle, label=mwLabel)\n",
    "        dataPlot.plot(dataPerc[point], percStyle, label=percLabel)\n",
    "\n",
    "        # add legend\n",
    "        plt.xlabel('Date')\n",
    "        plt.ylabel(dataset)\n",
    "\n",
    "       # plt.legend(bbox_to_anchor=(1, 1), loc=2, borderaxespad=0)\n",
    "        plt.legend()\n",
    "        plt.title(dataset+ \" \"+point+\" - \"+addInfo)\n"
   ]
  },
  {
   "cell_type": "markdown",
   "metadata": {},
   "source": [
    "## geoplotting??"
   ]
  },
  {
   "cell_type": "code",
   "execution_count": 2,
   "metadata": {
    "collapsed": true
   },
   "outputs": [
    {
     "ename": "NameError",
     "evalue": "name 'ExplanLvodSig' is not defined",
     "output_type": "error",
     "traceback": [
      "\u001b[1;31m---------------------------------------------------------------------------\u001b[0m",
      "\u001b[1;31mNameError\u001b[0m                                 Traceback (most recent call last)",
      "\u001b[1;32m<ipython-input-2-a42c7e1a8635>\u001b[0m in \u001b[0;36m<module>\u001b[1;34m\u001b[0m\n\u001b[0;32m     14\u001b[0m \u001b[1;33m\u001b[0m\u001b[0m\n\u001b[0;32m     15\u001b[0m \u001b[1;31m# join the geodataframe with the cleaned up csv dataframe\u001b[0m\u001b[1;33m\u001b[0m\u001b[1;33m\u001b[0m\u001b[1;33m\u001b[0m\u001b[0m\n\u001b[1;32m---> 16\u001b[1;33m \u001b[0msmosdb\u001b[0m \u001b[1;33m=\u001b[0m \u001b[0mmap_df\u001b[0m\u001b[1;33m.\u001b[0m\u001b[0mset_index\u001b[0m\u001b[1;33m(\u001b[0m\u001b[1;34m'SMOS_ID'\u001b[0m\u001b[1;33m)\u001b[0m\u001b[1;33m.\u001b[0m\u001b[0mjoin\u001b[0m\u001b[1;33m(\u001b[0m\u001b[0mExplanLvodSig\u001b[0m\u001b[1;33m.\u001b[0m\u001b[0mset_index\u001b[0m\u001b[1;33m(\u001b[0m\u001b[1;34m'ID'\u001b[0m\u001b[1;33m)\u001b[0m\u001b[1;33m,\u001b[0m \u001b[0mhow\u001b[0m \u001b[1;33m=\u001b[0m \u001b[1;34m'inner'\u001b[0m\u001b[1;33m)\u001b[0m\u001b[1;33m\u001b[0m\u001b[1;33m\u001b[0m\u001b[0m\n\u001b[0m\u001b[0;32m     17\u001b[0m \u001b[1;31m#smosdb.head()\u001b[0m\u001b[1;33m\u001b[0m\u001b[1;33m\u001b[0m\u001b[1;33m\u001b[0m\u001b[0m\n\u001b[0;32m     18\u001b[0m \u001b[0msmosdb\u001b[0m\u001b[1;33m[\u001b[0m\u001b[1;36m0\u001b[0m\u001b[1;33m:\u001b[0m\u001b[1;36m20\u001b[0m\u001b[1;33m]\u001b[0m\u001b[1;33m\u001b[0m\u001b[1;33m\u001b[0m\u001b[0m\n",
      "\u001b[1;31mNameError\u001b[0m: name 'ExplanLvodSig' is not defined"
     ]
    }
   ],
   "source": [
    "#1. \n",
    "import pandas as pd, numpy as np\n",
    "%matplotlib inline\n",
    "import matplotlib.pyplot as plt\n",
    "import geopandas as gpd\n",
    "\n",
    "# set the filepath and load in a shapefile\n",
    "\n",
    "fp = \"\\Swenson\\Research\\Texas_drought\\RadarTexas\\GIS\\CONUSAllSMOSThAlb83.shp\" \n",
    "    \n",
    "map_df = gpd.read_file(fp)\n",
    "# check data type so we can see that this is not a normal dataframe, but a GEOdataframe\n",
    "#map_df.head()\n",
    "#map_df.plot()\n",
    "\n",
    "# join the geodataframe with the cleaned up csv dataframe\n",
    "smosdb = map_df.set_index('SMOS_ID').join(ExplanLvodSig.set_index('ID'), how = 'inner')\n",
    "#smosdb.head()\n",
    "smosdb[0:20]\n",
    "\n",
    "#map_df.plot()\n"
   ]
  },
  {
   "cell_type": "code",
   "execution_count": 3,
   "metadata": {},
   "outputs": [
    {
     "ename": "NameError",
     "evalue": "name 'smosdb' is not defined",
     "output_type": "error",
     "traceback": [
      "\u001b[1;31m---------------------------------------------------------------------------\u001b[0m",
      "\u001b[1;31mNameError\u001b[0m                                 Traceback (most recent call last)",
      "\u001b[1;32m<ipython-input-3-c79702ce3914>\u001b[0m in \u001b[0;36m<module>\u001b[1;34m\u001b[0m\n\u001b[0;32m      5\u001b[0m \u001b[1;31m# create figure and axes for Matplotlib\u001b[0m\u001b[1;33m\u001b[0m\u001b[1;33m\u001b[0m\u001b[1;33m\u001b[0m\u001b[0m\n\u001b[0;32m      6\u001b[0m \u001b[0mfig\u001b[0m\u001b[1;33m,\u001b[0m \u001b[0max\u001b[0m \u001b[1;33m=\u001b[0m \u001b[0mplt\u001b[0m\u001b[1;33m.\u001b[0m\u001b[0msubplots\u001b[0m\u001b[1;33m(\u001b[0m\u001b[1;36m1\u001b[0m\u001b[1;33m,\u001b[0m \u001b[0mfigsize\u001b[0m\u001b[1;33m=\u001b[0m\u001b[1;33m(\u001b[0m\u001b[1;36m10\u001b[0m\u001b[1;33m,\u001b[0m \u001b[1;36m6\u001b[0m\u001b[1;33m)\u001b[0m\u001b[1;33m)\u001b[0m\u001b[1;33m\u001b[0m\u001b[1;33m\u001b[0m\u001b[0m\n\u001b[1;32m----> 7\u001b[1;33m \u001b[0msmosdb\u001b[0m\u001b[1;33m.\u001b[0m\u001b[0mplot\u001b[0m\u001b[1;33m(\u001b[0m\u001b[0mcolumn\u001b[0m\u001b[1;33m=\u001b[0m\u001b[0mvariable\u001b[0m\u001b[1;33m,\u001b[0m \u001b[0mcmap\u001b[0m\u001b[1;33m=\u001b[0m\u001b[1;34m'inferno'\u001b[0m\u001b[1;33m,\u001b[0m \u001b[0max\u001b[0m\u001b[1;33m=\u001b[0m\u001b[0max\u001b[0m\u001b[1;33m)\u001b[0m\u001b[1;33m\u001b[0m\u001b[1;33m\u001b[0m\u001b[0m\n\u001b[0m\u001b[0;32m      8\u001b[0m             \u001b[1;31m# scheme='quantiles')\u001b[0m\u001b[1;33m\u001b[0m\u001b[1;33m\u001b[0m\u001b[1;33m\u001b[0m\u001b[0m\n\u001b[0;32m      9\u001b[0m             \u001b[1;31m#linewidth=0.0, ax=ax, edgecolor='0.8')\u001b[0m\u001b[1;33m\u001b[0m\u001b[1;33m\u001b[0m\u001b[1;33m\u001b[0m\u001b[0m\n",
      "\u001b[1;31mNameError\u001b[0m: name 'smosdb' is not defined"
     ]
    },
    {
     "data": {
      "image/png": "[encoded data removed]",
      "text/plain": [
       "<Figure size 720x432 with 1 Axes>"
      ]
     },
     "metadata": {
      "needs_background": "light"
     },
     "output_type": "display_data"
    }
   ],
   "source": [
    "# 2.\n",
    "# set a variable that will call whatever column we want to visualise on the map\n",
    "variable = 'pvalue'\n",
    "# set the range for the choropleth\n",
    "vmin, vmax = 0, 1\n",
    "# create figure and axes for Matplotlib\n",
    "fig, ax = plt.subplots(1, figsize=(10, 6))\n",
    "smosdb.plot(column=variable, cmap='inferno', ax=ax) \n",
    "            # scheme='quantiles')\n",
    "            #linewidth=0.0, ax=ax, edgecolor='0.8')\n",
    "#ax.axis(‘off’)\n",
    "# Create colorbar as a legend\n",
    "sm = plt.cm.ScalarMappable(cmap='inferno', norm=plt.Normalize(vmin=vmin, vmax=vmax))\n",
    "# empty array for the data range\n",
    "sm._A = []\n",
    "# add the colorbar to the figure\n",
    "cbar = fig.colorbar(sm)\n",
    "\n",
    "#fig.savefig(“map_export.png”, dpi=300)"
   ]
  },
  {
   "cell_type": "code",
   "execution_count": null,
   "metadata": {},
   "outputs": [],
   "source": []
  }
 ],
 "metadata": {
  "kernelspec": {
   "display_name": "Python 3",
   "language": "python",
   "name": "python3"
  },
  "language_info": {
   "codemirror_mode": {
    "name": "ipython",
    "version": 3
   },
   "file_extension": ".py",
   "mimetype": "text/x-python",
   "name": "python",
   "nbconvert_exporter": "python",
   "pygments_lexer": "ipython3",
   "version": "3.7.3"
  }
 },
 "nbformat": 4,
 "nbformat_minor": 2
}
