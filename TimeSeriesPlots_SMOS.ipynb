{
 "cells": [
  {
   "cell_type": "markdown",
   "metadata": {},
   "source": [
    "#time series plots- both daily/weekly VOD points for TX drought by, e.g. quantiles, and series by ecosystem (averages and variance)"
   ]
  },
  {
   "cell_type": "code",
   "execution_count": null,
   "metadata": {},
   "outputs": [],
   "source": [
    "#original copied code for reference!"
   ]
  },
  {
   "cell_type": "code",
   "execution_count": null,
   "metadata": {},
   "outputs": [],
   "source": [
    "#matlibplot basic connected scatter plot https://python-graph-gallery.com/132-basic-connected-scatterplot/\n",
    "# libraries\n",
    "import matplotlib.pyplot as plt\n",
    "import numpy as np\n",
    "import pandas as pd\n",
    "import seaborn as sns\n",
    " \n",
    "# data\n",
    "df=pd.DataFrame({'x': range(1,10), 'y': np.random.randn(9)*80+range(1,10) })\n",
    " \n",
    "# plot\n",
    "plt.plot( 'x', 'y', data=df, linestyle='-', marker='o')\n",
    "plt.show()\n"
   ]
  },
  {
   "cell_type": "markdown",
   "metadata": {},
   "source": [
    "# time series with mean line and interval buffer"
   ]
  },
  {
   "cell_type": "code",
   "execution_count": null,
   "metadata": {},
   "outputs": [],
   "source": [
    "import numpy as np\n",
    "import matplotlib.pyplot as plt\n",
    "plt.style.use('ggplot') # this was just used for the examples\n",
    "\n",
    "# data\n",
    "t = np.linspace(0,100,100)\n",
    "y = 5 * np.sin(t/10) + 4*np.random.randn(100*150).reshape(150, 100)\n",
    "y_ = 5 * np.sin(t/10) + 4*np.random.randn(100*4000).reshape(4000, 100)\n",
    "\n",
    "t__ = np.linspace(0,100,6) \n",
    "y__ = 5 * np.sin(t__/10) + 4*np.random.randn(6*4000).reshape(4000, 6)\n",
    "\n",
    "def tsplot(x, y, n=20, percentile_min=1, percentile_max=99, color='r', plot_mean=True, plot_median=False, line_color='k', **kwargs):\n",
    "    # calculate the lower and upper percentile groups, skipping 50 percentile\n",
    "    perc1 = np.percentile(y, np.linspace(percentile_min, 50, num=n, endpoint=False), axis=0)\n",
    "    perc2 = np.percentile(y, np.linspace(50, percentile_max, num=n+1)[1:], axis=0)\n",
    "\n",
    "    if 'alpha' in kwargs:\n",
    "        alpha = kwargs.pop('alpha')\n",
    "    else:\n",
    "        alpha = 1/n\n",
    "    # fill lower and upper percentile groups\n",
    "    for p1, p2 in zip(perc1, perc2):\n",
    "        plt.fill_between(x, p1, p2, alpha=alpha, color=color, edgecolor=None)\n",
    "\n",
    "\n",
    "    if plot_mean:\n",
    "        plt.plot(x, np.mean(y, axis=0), color=line_color)\n",
    "\n",
    "\n",
    "    if plot_median:\n",
    "        plt.plot(x, np.median(y, axis=0), color=line_color)\n",
    "    \n",
    "    return plt.gca()"
   ]
  },
  {
   "cell_type": "code",
   "execution_count": null,
   "metadata": {},
   "outputs": [],
   "source": [
    "# eg. https://seaborn.pydata.org/examples/errorband_lineplots.html\n",
    "#issues- raw data- how are error bands generated?\n",
    "\n",
    "import seaborn as sns\n",
    "sns.set(style=\"darkgrid\")\n",
    "\n",
    "# Load an example dataset with long-form data\n",
    "fmri = sns.load_dataset(\"fmri\")\n",
    "\n",
    "# Plot the responses for different events and regions\n",
    "sns.lineplot(x=\"timepoint\", y=\"signal\",\n",
    "             hue=\"region\", style=\"event\",\n",
    "             data=fmri)"
   ]
  },
  {
   "cell_type": "code",
   "execution_count": null,
   "metadata": {},
   "outputs": [],
   "source": [
    "# copied to working code-- what does this look like? must have seemed promising...\n",
    "import pandas as pd\n",
    "import seaborn as sns    \n",
    "import seaborn.timeseries\n",
    "\n",
    "def _plot_range_band(*args, central_data=None, ci=None, data=None, **kwargs):\n",
    "    upper = data.max(axis=0)\n",
    "    lower = data.min(axis=0)\n",
    "    #import pdb; pdb.set_trace()\n",
    "    ci = np.asarray((lower, upper))\n",
    "    kwargs.update({\"central_data\": central_data, \"ci\": ci, \"data\": data})\n",
    "    seaborn.timeseries._plot_ci_band(*args, **kwargs)\n",
    "\n",
    "seaborn.timeseries._plot_range_band = _plot_range_band\n",
    "\n",
    "cluster_overload = pd.read_csv(\"TSplot.csv\", delim_whitespace=True)\n",
    "cluster_overload['Unit'] = cluster_overload.groupby(['Cluster','Week']).cumcount()\n",
    "\n",
    "ax = sns.tsplot(time='Week',value=\"Overload\", condition=\"Cluster\", unit=\"Unit\", data=cluster_overload,\n",
    "               err_style=\"range_band\", n_boot=0)"
   ]
  },
  {
   "cell_type": "code",
   "execution_count": null,
   "metadata": {},
   "outputs": [],
   "source": [
    "#matlipplot approach of stacked plots-- raw data\n",
    "# libraries\n",
    "import matplotlib.pyplot as plt\n",
    "import numpy as np\n",
    "import pandas as pd\n",
    " \n",
    "# Data\n",
    "df=pd.DataFrame({'x': range(1,11), 'y1': np.random.randn(10), 'y2': np.random.randn(10)+range(1,11), 'y3': np.random.randn(10)+range(11,21) })\n",
    " \n",
    "# multiple line plot\n",
    "plt.plot( 'x', 'y1', data=df, marker='o', markerfacecolor='blue', markersize=12, color='skyblue', linewidth=4)\n",
    "plt.plot( 'x', 'y2', data=df, marker='', color='olive', linewidth=2)\n",
    "plt.plot( 'x', 'y3', data=df, marker='', color='olive', linewidth=2, linestyle='dashed', label=\"toto\")\n",
    "plt.legend()\n"
   ]
  },
  {
   "cell_type": "code",
   "execution_count": null,
   "metadata": {},
   "outputs": [],
   "source": [
    "#TSplot  green shading for percentiles https://github.com/arviz-devs/arviz/issues/2 \n",
    "import seaborn\n",
    "import matplotlib.pyplot as plt\n",
    "import numpy as np\n",
    "plt.style.use('ggplot') # this was just used for the examples\n",
    "tsplot(t, y, n=5, percentile_min=2.5, percentile_max=97.5, plot_median=True, plot_mean=False, color='g', line_color='navy')"
   ]
  }
 ],
 "metadata": {
  "kernelspec": {
   "display_name": "Python 3",
   "language": "python",
   "name": "python3"
  },
  "language_info": {
   "codemirror_mode": {
    "name": "ipython",
    "version": 3
   },
   "file_extension": ".py",
   "mimetype": "text/x-python",
   "name": "python",
   "nbconvert_exporter": "python",
   "pygments_lexer": "ipython3",
   "version": "3.7.3"
  }
 },
 "nbformat": 4,
 "nbformat_minor": 4
}
